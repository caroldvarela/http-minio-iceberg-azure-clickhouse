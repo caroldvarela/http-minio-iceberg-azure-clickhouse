{
 "cells": [
  {
   "cell_type": "code",
   "execution_count": null,
   "id": "1c5cd220-d5bf-484a-8b0a-b00573c3ce48",
   "metadata": {},
   "outputs": [],
   "source": [
    "!pip install \"dlt[filesystem]==1.15.0\" s3fs adlfs"
   ]
  },
  {
   "cell_type": "code",
   "execution_count": null,
   "id": "6d1a56ec-099e-4659-9d29-141263490d96",
   "metadata": {},
   "outputs": [],
   "source": [
    "!pip install pyarrow pandas"
   ]
  },
  {
   "cell_type": "code",
   "execution_count": 7,
   "id": "983c1345",
   "metadata": {},
   "outputs": [],
   "source": [
    "import dlt\n",
    "import pyarrow.parquet as pq\n",
    "import fsspec"
   ]
  },
  {
   "cell_type": "markdown",
   "id": "2a058635",
   "metadata": {},
   "source": [
    "## **Load a remote Parquet file into MinIO using DLT**\n",
    "\n",
    "In this first script, we demonstrate how to **extract a Parquet file from a public URL**,  \n",
    "and **load it into MinIO (S3-compatible storage)** using a DLT pipeline.\n",
    "\n",
    "**Process overview:**\n",
    "1. **Define the resource:**  \n",
    "   - The function `my_df()` opens the Parquet file directly from a remote URL using `fsspec`.  \n",
    "   - The file is read with `pyarrow` and converted into a Pandas DataFrame, which is then yielded to DLT for ingestion.\n",
    "\n",
    "2. **Configure the pipeline:**  \n",
    "   - The pipeline `parquet_to_minio` uses the `filesystem` destination.  \n",
    "   - Authentication and configuration details are managed automatically from the `.dlt/secrets.toml` file.  \n",
    "   - The data will be stored in a dataset named `taxis_parquet`.\n",
    "\n",
    "3. **Execute the pipeline:**  \n",
    "   - The pipeline writes the output in Parquet format inside the MinIO bucket.  \n",
    "   - The `write_disposition=\"replace\"` option ensures that any existing dataset is overwritten, maintaining a clean environment for testing."
   ]
  },
  {
   "cell_type": "code",
   "execution_count": null,
   "id": "ccd4c204",
   "metadata": {},
   "outputs": [
    {
     "name": "stdout",
     "output_type": "stream",
     "text": [
      "Pipeline parquet_to_minio load step completed in 1.21 seconds\n",
      "1 load package(s) were loaded to destination filesystem and into dataset taxis_parquet\n",
      "The filesystem destination used s3://taxis location to store data\n",
      "Load package 1761058478.437103 is LOADED and contains no failed jobs\n"
     ]
    }
   ],
   "source": [
    "# Define a resource that reads data from a remote Parquet file\n",
    "@dlt.resource(table_name=\"df_data\")\n",
    "def my_df():\n",
    "    parquet_url = \"https://d37ci6vzurychx.cloudfront.net/trip-data/yellow_tripdata_2025-01.parquet\"\n",
    "    with fsspec.open(parquet_url, mode=\"rb\") as f:\n",
    "        table = pq.read_table(f)\n",
    "        df = table.to_pandas()\n",
    "        yield df   # yield the DataFrame to DLT\n",
    "\n",
    "\n",
    "# Pipeline configured with a filesystem destination\n",
    "# Credentials will be automatically read from `.dlt/secrets.toml`\n",
    "pipeline = dlt.pipeline(\n",
    "    pipeline_name=\"parquet_to_minio\",\n",
    "    destination=\"filesystem\",\n",
    "    dataset_name=\"taxis_parquet\",\n",
    ")\n",
    "\n",
    "# Run the pipeline\n",
    "load_info = pipeline.run(\n",
    "    my_df,\n",
    "    loader_file_format=\"parquet\",\n",
    "    write_disposition=\"replace\"\n",
    ")\n",
    "print(load_info)"
   ]
  },
  {
   "cell_type": "markdown",
   "id": "871c573d",
   "metadata": {},
   "source": [
    "The pipeline ran successfully and completed in approximately **1.2 seconds**.  \n",
    "It confirms that:\n",
    "- The data was loaded to the **filesystem destination** (MinIO).  \n",
    "- The dataset **`taxis_parquet`** was created and contains the ingested Parquet file.  \n",
    "- No failed jobs were detected.\n",
    "\n"
   ]
  }
 ],
 "metadata": {
  "kernelspec": {
   "display_name": "Python 3 (ipykernel)",
   "language": "python",
   "name": "python3"
  },
  "language_info": {
   "codemirror_mode": {
    "name": "ipython",
    "version": 3
   },
   "file_extension": ".py",
   "mimetype": "text/x-python",
   "name": "python",
   "nbconvert_exporter": "python",
   "pygments_lexer": "ipython3",
   "version": "3.11.6"
  }
 },
 "nbformat": 4,
 "nbformat_minor": 5
}
